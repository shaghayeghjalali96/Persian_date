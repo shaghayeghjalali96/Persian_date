{
 "cells": [
  {
   "cell_type": "markdown",
   "metadata": {},
   "source": [
    "# Insert library "
   ]
  },
  {
   "cell_type": "code",
   "execution_count": 2,
   "metadata": {},
   "outputs": [],
   "source": [
    "import pandas as pd\n",
    "from khayyam import *\n",
    "from datetime import timedelta\n",
    "from datetime import date, time, datetime"
   ]
  },
  {
   "cell_type": "markdown",
   "metadata": {},
   "source": [
    "\n",
    " \n",
    " Creating Jalali and Gregorian Date Objects\n",
    " \n",
    " <div style=\"text-align: right\">  تعریف تاریخ شمسی و میلادی</div>\n",
    " "
   ]
  },
  {
   "cell_type": "code",
   "execution_count": 3,
   "metadata": {},
   "outputs": [
    {
     "name": "stdout",
     "output_type": "stream",
     "text": [
      "Jalali date:\t\t 1361-06-15\n",
      "Gregorian date:\t\t 1982-09-06\n",
      "Gregorian datetime:\t 2020-05-17 00:00:00\n",
      "Gregorian timestamp:\t 2017-01-01 12:00:00\n",
      "Gregorian time:\t\t 13:14:31\n"
     ]
    }
   ],
   "source": [
    "\n",
    "jalali_date = JalaliDate(1361, 6, 15)\n",
    "print('Jalali date:\\t\\t',jalali_date)\n",
    "\n",
    "Gregorian_date = date(1982, 9, 6)\n",
    "print('Gregorian date:\\t\\t',Gregorian_date)\n",
    "\n",
    "Gregorian_datetime = datetime(2020, 5, 17)\n",
    "print('Gregorian datetime:\\t',Gregorian_datetime)\n",
    "\n",
    "Gregorian_timestamp = pd.Timestamp(2017, 1, 1, 12)\n",
    "print('Gregorian timestamp:\\t',Gregorian_timestamp)\n",
    "\n",
    "Gregorian_Time = time(hour=13, minute=14, second=31)\n",
    "print('Gregorian time:\\t\\t',Gregorian_Time)\n"
   ]
  },
  {
   "cell_type": "code",
   "execution_count": 4,
   "metadata": {},
   "outputs": [
    {
     "name": "stdout",
     "output_type": "stream",
     "text": [
      "today 2023-07-06\n",
      "now 2023-07-06 10:29:12.882003\n"
     ]
    },
    {
     "data": {
      "text/plain": [
       "datetime.datetime(2023, 7, 6, 10, 29, 12)"
      ]
     },
     "execution_count": 4,
     "metadata": {},
     "output_type": "execute_result"
    }
   ],
   "source": [
    "today = date.today()\n",
    "print('today',today)\n",
    "\n",
    "now = datetime.now()\n",
    "print('now',now)\n",
    "current_time = time(now.hour, now.minute, now.second)\n",
    "datetime.combine(today, current_time)\n"
   ]
  },
  {
   "cell_type": "markdown",
   "metadata": {},
   "source": [
    "# The strftime() Method"
   ]
  },
  {
   "cell_type": "code",
   "execution_count": 5,
   "metadata": {},
   "outputs": [
    {
     "name": "stdout",
     "output_type": "stream",
     "text": [
      "Year, full version:\t \t 1982\n",
      "Month name, full version:\t September\n",
      "Month as a number 01-12:\t 09\n",
      "Day of month 01-31:\t \t 06\n",
      "Weekday, full version: \t\t Monday\n",
      "Weekday as a number 0-6, 0 is Sunday:\t 1\n",
      "Day number of year 001-366:\t 249\n",
      "full version:\t \t\t 1982 September 06\n"
     ]
    }
   ],
   "source": [
    "print('Year, full version:\\t \\t',Gregorian_date.strftime(\"%Y\"))\n",
    "print('Month name, full version:\\t',Gregorian_date.strftime(\"%B\"))\n",
    "print('Month as a number 01-12:\\t',Gregorian_date.strftime(\"%m\"))\n",
    "print('Day of month 01-31:\\t \\t',Gregorian_date.strftime(\"%d\"))\n",
    "print('Weekday, full version: \\t\\t',Gregorian_date.strftime(\"%A\"))\n",
    "print('Weekday as a number 0-6, 0 is Sunday:\\t',Gregorian_date.strftime(\"%w\"))\n",
    "print('Day number of year 001-366:\\t',Gregorian_date.strftime(\"%j\"))\n",
    "print('full version:\\t \\t\\t',Gregorian_date.strftime('%Y %B %d'))"
   ]
  },
  {
   "cell_type": "markdown",
   "metadata": {},
   "source": [
    "### jalali date strftime() Method"
   ]
  },
  {
   "cell_type": "code",
   "execution_count": 6,
   "metadata": {},
   "outputs": [
    {
     "name": "stdout",
     "output_type": "stream",
     "text": [
      "Year, full farsi version:\t ۱۳۶۱\n",
      "Year, full version:\t \t 1361\n",
      "Month name, full farsi version:\t شهریور\n",
      "Month as a number 01-12:\t 06\n",
      "Day of month 01-31:\t \t ۱۵\n",
      "Weekday, full version: \t\t دوشنبه\n",
      "Day number of year 001-366:\t 170\n",
      "full version:\t \t \t 1361 06 15\n",
      "full version farsi:\t \t دوشنبه ۱۵ شهریور ۱۳۶۱\n"
     ]
    }
   ],
   "source": [
    "print('Year, full farsi version:\\t',jalali_date.strftime('%N'))\n",
    "print('Year, full version:\\t \\t',jalali_date.strftime('%Y'))\n",
    "print('Month name, full farsi version:\\t',jalali_date.strftime('%B'))\n",
    "print('Month as a number 01-12:\\t',jalali_date.strftime('%m'))\n",
    "print('Day of month 01-31:\\t \\t',jalali_date.strftime('%D'))\n",
    "print('Weekday, full version: \\t\\t',jalali_date.strftime('%A'))\n",
    "print('Day number of year 001-366:\\t',jalali_date.strftime('%j'))\n",
    "print('full version:\\t \\t \\t',jalali_date.strftime('%Y %m %d'))\n",
    "print('full version farsi:\\t \\t',jalali_date.strftime('%A %D %B %N'))"
   ]
  },
  {
   "cell_type": "markdown",
   "metadata": {},
   "source": [
    "# Extract Year, Month and Day from the Date\n",
    "#\n",
    "دسترسی به روز، ماه و سال"
   ]
  },
  {
   "cell_type": "code",
   "execution_count": 7,
   "metadata": {},
   "outputs": [
    {
     "name": "stdout",
     "output_type": "stream",
     "text": [
      "Gregorian year:   1982\n",
      "Gregorian month:  9\n",
      "Gregorian day:    6\n",
      "shamsi year:      1361\n",
      "shamsi month:     6\n",
      "shamsi day:       15\n"
     ]
    }
   ],
   "source": [
    "print('Gregorian year:  ', Gregorian_date.year)\n",
    "print('Gregorian month: ', Gregorian_date.month)\n",
    "print('Gregorian day:   ', Gregorian_date.day)\n",
    "print('shamsi year:     ',jalali_date.year)\n",
    "print('shamsi month:    ',jalali_date.month)\n",
    "print('shamsi day:      ',jalali_date.day)\n"
   ]
  },
  {
   "cell_type": "code",
   "execution_count": 8,
   "metadata": {},
   "outputs": [
    {
     "name": "stdout",
     "output_type": "stream",
     "text": [
      "شه\n",
      "شهریور\n",
      "170\n",
      "Monday\n",
      "1391-11-08\n"
     ]
    }
   ],
   "source": [
    "print(jalali_date.monthabbr())\n",
    "print(jalali_date.monthname())\n",
    "print(jalali_date.dayofyear())\n",
    "print(jalali_date.englishweekdaynameascii())\n",
    "print(jalali_date.fromordinal(508000))"
   ]
  },
  {
   "cell_type": "markdown",
   "metadata": {},
   "source": [
    "DATETIME: It is used for values that contain both date and time parts. The supported range is 1000-01-01 00:00:00 to 9999-12-31 23:59:59.\n",
    "\n",
    "TIMESTAMP: It is also used for values that contain both date and time parts, and includes the time zone. TIMESTAMP has a range of 1970-01-01 00:00:01 UTC to 2038-01-19 03:14:07 UTC."
   ]
  },
  {
   "cell_type": "code",
   "execution_count": 9,
   "metadata": {},
   "outputs": [
    {
     "name": "stdout",
     "output_type": "stream",
     "text": [
      "0001-01-01\n",
      "9999-12-31\n",
      "1 day, 0:00:00\n",
      "1677-09-21 00:12:43.145225\n",
      "2262-04-11 23:47:16.854775807\n"
     ]
    }
   ],
   "source": [
    "print(Gregorian_date.min)\n",
    "print(Gregorian_date.max)\n",
    "print(Gregorian_date.resolution)\n",
    "print(Gregorian_timestamp.min)\n",
    "print(Gregorian_timestamp.max)"
   ]
  },
  {
   "cell_type": "markdown",
   "metadata": {},
   "source": [
    "Find the Difference Between Two Dates and Times\n",
    "Comparing dates"
   ]
  },
  {
   "cell_type": "code",
   "execution_count": 10,
   "metadata": {},
   "outputs": [
    {
     "data": {
      "text/plain": [
       "False"
      ]
     },
     "execution_count": 10,
     "metadata": {},
     "output_type": "execute_result"
    }
   ],
   "source": [
    "Gregorian_date1 = date(2020, 9, 6)\n",
    "Gregorian_date2 = date(2020, 2, 9)\n",
    "Gregorian_date1 < Gregorian_date2"
   ]
  },
  {
   "cell_type": "code",
   "execution_count": 11,
   "metadata": {},
   "outputs": [
    {
     "data": {
      "text/plain": [
       "True"
      ]
     },
     "execution_count": 11,
     "metadata": {},
     "output_type": "execute_result"
    }
   ],
   "source": [
    "JalaliDate(1398, 11, 20) == JalaliDate(Gregorian_date2)\n"
   ]
  },
  {
   "cell_type": "markdown",
   "metadata": {},
   "source": [
    "A timedelta object represents a duration, the difference between two dates or times."
   ]
  },
  {
   "cell_type": "code",
   "execution_count": 12,
   "metadata": {},
   "outputs": [
    {
     "data": {
      "text/plain": [
       "khayyam.JalaliDate(1395, 3, 21, Jomeh)"
      ]
     },
     "execution_count": 12,
     "metadata": {},
     "output_type": "execute_result"
    }
   ],
   "source": [
    "JalaliDate(1395, 2, 14) + timedelta(days=38)"
   ]
  },
  {
   "cell_type": "code",
   "execution_count": 13,
   "metadata": {},
   "outputs": [
    {
     "data": {
      "text/plain": [
       "datetime.timedelta(days=365)"
      ]
     },
     "execution_count": 13,
     "metadata": {},
     "output_type": "execute_result"
    }
   ],
   "source": [
    "JalaliDate(1395, 12, 30) - JalaliDate(1395, 1, 1)"
   ]
  },
  {
   "cell_type": "code",
   "execution_count": 14,
   "metadata": {},
   "outputs": [
    {
     "data": {
      "text/plain": [
       "datetime.date(2020, 2, 26)"
      ]
     },
     "execution_count": 14,
     "metadata": {},
     "output_type": "execute_result"
    }
   ],
   "source": [
    "Gregorian_date2.replace(day=26)"
   ]
  },
  {
   "cell_type": "code",
   "execution_count": 15,
   "metadata": {},
   "outputs": [],
   "source": [
    "import datetime\n",
    "\n",
    "# (hours, minutes)\n",
    "start_time = datetime.time(7, 0)\n",
    "# (year, month, day)\n",
    "start_date = datetime.date(2015, 5, 1)\n",
    "# Create a datetime object\n",
    "start_datetime = datetime.datetime.combine(\n",
    "    start_date, start_time)"
   ]
  },
  {
   "cell_type": "code",
   "execution_count": 16,
   "metadata": {},
   "outputs": [
    {
     "data": {
      "text/plain": [
       "datetime.datetime(2015, 5, 1, 7, 0)"
      ]
     },
     "execution_count": 16,
     "metadata": {},
     "output_type": "execute_result"
    }
   ],
   "source": [
    "start_datetime"
   ]
  },
  {
   "cell_type": "markdown",
   "metadata": {},
   "source": [
    "# چندمین روز سال {1-365}"
   ]
  },
  {
   "cell_type": "code",
   "execution_count": 17,
   "metadata": {},
   "outputs": [
    {
     "data": {
      "text/plain": [
       "33"
      ]
     },
     "execution_count": 17,
     "metadata": {},
     "output_type": "execute_result"
    }
   ],
   "source": [
    "JalaliDatetime(1399,2,2).dayofyear()"
   ]
  },
  {
   "cell_type": "code",
   "execution_count": 18,
   "metadata": {},
   "outputs": [
    {
     "data": {
      "text/plain": [
       "'Tuesday'"
      ]
     },
     "execution_count": 18,
     "metadata": {},
     "output_type": "execute_result"
    }
   ],
   "source": [
    "JalaliDatetime(1399,2,2).englishweekdaynameascii()"
   ]
  },
  {
   "cell_type": "code",
   "execution_count": 19,
   "metadata": {},
   "outputs": [
    {
     "data": {
      "text/plain": [
       "<bound method JalaliDate.firstdayofyear of khayyam.JalaliDatetime(1399, 2, 2, 0, 0, 0, 0, Seshanbeh)>"
      ]
     },
     "execution_count": 19,
     "metadata": {},
     "output_type": "execute_result"
    }
   ],
   "source": [
    "JalaliDatetime(1399,2,2).firstdayofyear"
   ]
  },
  {
   "cell_type": "code",
   "execution_count": 20,
   "metadata": {},
   "outputs": [
    {
     "data": {
      "text/plain": [
       "khayyam.JalaliDatetime(1391, 11, 8, 0, 0, 0, 0, Yekshanbeh)"
      ]
     },
     "execution_count": 20,
     "metadata": {},
     "output_type": "execute_result"
    }
   ],
   "source": [
    "JalaliDatetime(1399,2,2).fromordinal(508000)"
   ]
  },
  {
   "cell_type": "code",
   "execution_count": 21,
   "metadata": {},
   "outputs": [
    {
     "name": "stdout",
     "output_type": "stream",
     "text": [
      "ار\n",
      "خر\n",
      "شه\n"
     ]
    }
   ],
   "source": [
    "print(JalaliDatetime(1399,2,2).monthabbr())\n",
    "print(JalaliDatetime(1399,3,2).monthabbr())\n",
    "print(JalaliDatetime(1399,6,2).monthabbr())"
   ]
  },
  {
   "cell_type": "code",
   "execution_count": 22,
   "metadata": {},
   "outputs": [
    {
     "name": "stdout",
     "output_type": "stream",
     "text": [
      "اردیبهشت\n",
      "خرداد\n",
      "شهریور\n"
     ]
    }
   ],
   "source": [
    "\n",
    "print(JalaliDatetime(1399,2,2).monthname())\n",
    "print(JalaliDatetime(1399,3,2).monthname())\n",
    "print(JalaliDatetime(1399,6,2).monthname())"
   ]
  },
  {
   "cell_type": "markdown",
   "metadata": {},
   "source": [
    "# Converting\n",
    "\n",
    "تبدیل تاریخ از شمسی به میلادی و برعکس"
   ]
  },
  {
   "cell_type": "code",
   "execution_count": 23,
   "metadata": {},
   "outputs": [
    {
     "name": "stdout",
     "output_type": "stream",
     "text": [
      "2013-09-16 -> convert Gregorian to jalali-> 1392-06-25\n",
      "1392-06-25 -> convert jalali to Gregorian-> 2013-09-16\n"
     ]
    }
   ],
   "source": [
    "from datetime import date\n",
    "print(date(2013, 9, 16),'-> convert Gregorian to jalali->', JalaliDate(date(2013, 9, 16)))\n",
    "print(JalaliDate(1392, 6, 25),'-> convert jalali to Gregorian->',JalaliDate(1392, 6, 25).todate())"
   ]
  },
  {
   "cell_type": "markdown",
   "metadata": {},
   "source": [
    "Formatting Dates"
   ]
  },
  {
   "cell_type": "code",
   "execution_count": 24,
   "metadata": {},
   "outputs": [
    {
     "name": "stdout",
     "output_type": "stream",
     "text": [
      "dt_object1: 2018-11-12 09:15:32\n",
      "dt_object2: 2018-12-11 09:15:32\n",
      "Unix Timestamp:  1544507132.0\n",
      "Output 1: Tue Dec 11 09:15:32 2018\n",
      "Output 2: 12/11/18\n",
      "Output 3: 09:15:32\n"
     ]
    }
   ],
   "source": [
    "# import datetime\n",
    "from datetime import datetime\n",
    "dt_string = \"12/11/2018 09:15:32\"\n",
    "# Considering date is in dd/mm/yyyy format\n",
    "dt_object1 = datetime.strptime(dt_string, \"%d/%m/%Y %H:%M:%S\")\n",
    "print(\"dt_object1:\", dt_object1)\n",
    "# Considering date is in mm/dd/yyyy format\n",
    "dt_object2 = datetime.strptime(dt_string, \"%m/%d/%Y %H:%M:%S\")\n",
    "print(\"dt_object2:\", dt_object2)\n",
    "\n",
    "# Convert dt_object2 to Unix Timestamp\n",
    "timestamp = datetime.timestamp(dt_object2)\n",
    "print('Unix Timestamp: ', timestamp)\n",
    "\n",
    "# Convert back into datetime\n",
    "date_time = datetime.fromtimestamp(timestamp)\n",
    "d = date_time.strftime(\"%c\")\n",
    "print(\"Output 1:\", d)\n",
    "d = date_time.strftime(\"%x\")\n",
    "print(\"Output 2:\", d)\n",
    "d = date_time.strftime(\"%X\")\n",
    "print(\"Output 3:\", d)"
   ]
  },
  {
   "cell_type": "code",
   "execution_count": 25,
   "metadata": {},
   "outputs": [
    {
     "data": {
      "text/html": [
       "<div>\n",
       "<style scoped>\n",
       "    .dataframe tbody tr th:only-of-type {\n",
       "        vertical-align: middle;\n",
       "    }\n",
       "\n",
       "    .dataframe tbody tr th {\n",
       "        vertical-align: top;\n",
       "    }\n",
       "\n",
       "    .dataframe thead th {\n",
       "        text-align: right;\n",
       "    }\n",
       "</style>\n",
       "<table border=\"1\" class=\"dataframe\">\n",
       "  <thead>\n",
       "    <tr style=\"text-align: right;\">\n",
       "      <th></th>\n",
       "      <th>نام فروشگاه</th>\n",
       "      <th>سال</th>\n",
       "      <th>ماه</th>\n",
       "      <th>روز</th>\n",
       "    </tr>\n",
       "  </thead>\n",
       "  <tbody>\n",
       "    <tr>\n",
       "      <th>0</th>\n",
       "      <td>store1</td>\n",
       "      <td>1396</td>\n",
       "      <td>آذر</td>\n",
       "      <td>4</td>\n",
       "    </tr>\n",
       "    <tr>\n",
       "      <th>1</th>\n",
       "      <td>store1</td>\n",
       "      <td>1396</td>\n",
       "      <td>آذر</td>\n",
       "      <td>5</td>\n",
       "    </tr>\n",
       "    <tr>\n",
       "      <th>2</th>\n",
       "      <td>store1</td>\n",
       "      <td>1396</td>\n",
       "      <td>آذر</td>\n",
       "      <td>6</td>\n",
       "    </tr>\n",
       "    <tr>\n",
       "      <th>3</th>\n",
       "      <td>store1</td>\n",
       "      <td>1396</td>\n",
       "      <td>آذر</td>\n",
       "      <td>7</td>\n",
       "    </tr>\n",
       "    <tr>\n",
       "      <th>4</th>\n",
       "      <td>store1</td>\n",
       "      <td>1396</td>\n",
       "      <td>آذر</td>\n",
       "      <td>8</td>\n",
       "    </tr>\n",
       "  </tbody>\n",
       "</table>\n",
       "</div>"
      ],
      "text/plain": [
       "  نام فروشگاه   سال  ماه  روز\n",
       "0      store1  1396  آذر    4\n",
       "1      store1  1396  آذر    5\n",
       "2      store1  1396  آذر    6\n",
       "3      store1  1396  آذر    7\n",
       "4      store1  1396  آذر    8"
      ]
     },
     "execution_count": 25,
     "metadata": {},
     "output_type": "execute_result"
    }
   ],
   "source": [
    "import pandas as pd\n",
    "from khayyam import *\n",
    "from datetime import timedelta, date\n",
    "from datetime import date, datetime\n",
    "df = pd.read_excel('Ravand.xlsx')\n",
    "df_copy = df\n",
    "df.head()"
   ]
  },
  {
   "cell_type": "markdown",
   "metadata": {},
   "source": [
    "تبدیل ماه فارسی به عدد ماه "
   ]
  },
  {
   "cell_type": "code",
   "execution_count": 26,
   "metadata": {},
   "outputs": [
    {
     "data": {
      "text/html": [
       "<div>\n",
       "<style scoped>\n",
       "    .dataframe tbody tr th:only-of-type {\n",
       "        vertical-align: middle;\n",
       "    }\n",
       "\n",
       "    .dataframe tbody tr th {\n",
       "        vertical-align: top;\n",
       "    }\n",
       "\n",
       "    .dataframe thead th {\n",
       "        text-align: right;\n",
       "    }\n",
       "</style>\n",
       "<table border=\"1\" class=\"dataframe\">\n",
       "  <thead>\n",
       "    <tr style=\"text-align: right;\">\n",
       "      <th></th>\n",
       "      <th>نام فروشگاه</th>\n",
       "      <th>سال</th>\n",
       "      <th>ماه</th>\n",
       "      <th>روز</th>\n",
       "      <th>Date</th>\n",
       "    </tr>\n",
       "  </thead>\n",
       "  <tbody>\n",
       "    <tr>\n",
       "      <th>0</th>\n",
       "      <td>store1</td>\n",
       "      <td>1396</td>\n",
       "      <td>آذر</td>\n",
       "      <td>4</td>\n",
       "      <td>2017-11-25</td>\n",
       "    </tr>\n",
       "    <tr>\n",
       "      <th>1</th>\n",
       "      <td>store1</td>\n",
       "      <td>1396</td>\n",
       "      <td>آذر</td>\n",
       "      <td>5</td>\n",
       "      <td>2017-11-26</td>\n",
       "    </tr>\n",
       "    <tr>\n",
       "      <th>2</th>\n",
       "      <td>store1</td>\n",
       "      <td>1396</td>\n",
       "      <td>آذر</td>\n",
       "      <td>6</td>\n",
       "      <td>2017-11-27</td>\n",
       "    </tr>\n",
       "    <tr>\n",
       "      <th>3</th>\n",
       "      <td>store1</td>\n",
       "      <td>1396</td>\n",
       "      <td>آذر</td>\n",
       "      <td>7</td>\n",
       "      <td>2017-11-28</td>\n",
       "    </tr>\n",
       "    <tr>\n",
       "      <th>4</th>\n",
       "      <td>store1</td>\n",
       "      <td>1396</td>\n",
       "      <td>آذر</td>\n",
       "      <td>8</td>\n",
       "      <td>2017-11-29</td>\n",
       "    </tr>\n",
       "  </tbody>\n",
       "</table>\n",
       "</div>"
      ],
      "text/plain": [
       "  نام فروشگاه   سال  ماه  روز        Date\n",
       "0      store1  1396  آذر    4  2017-11-25\n",
       "1      store1  1396  آذر    5  2017-11-26\n",
       "2      store1  1396  آذر    6  2017-11-27\n",
       "3      store1  1396  آذر    7  2017-11-28\n",
       "4      store1  1396  آذر    8  2017-11-29"
      ]
     },
     "execution_count": 26,
     "metadata": {},
     "output_type": "execute_result"
    }
   ],
   "source": [
    "months_index = ['فروردین', 'اردیبهشت', 'خرداد', 'تیر', 'مرداد', 'شهریور', 'مهر', 'آبان', 'آذر', 'دی', 'بهمن', 'اسفند']\n",
    "df['Date'] =df.apply(lambda y: str(JalaliDatetime(int(y['سال']), months_index.index(y['ماه']) + 1, int(y['روز'])).todate()), axis = 1)\n",
    "df.head()"
   ]
  },
  {
   "cell_type": "code",
   "execution_count": 27,
   "metadata": {},
   "outputs": [
    {
     "data": {
      "text/html": [
       "<div>\n",
       "<style scoped>\n",
       "    .dataframe tbody tr th:only-of-type {\n",
       "        vertical-align: middle;\n",
       "    }\n",
       "\n",
       "    .dataframe tbody tr th {\n",
       "        vertical-align: top;\n",
       "    }\n",
       "\n",
       "    .dataframe thead th {\n",
       "        text-align: right;\n",
       "    }\n",
       "</style>\n",
       "<table border=\"1\" class=\"dataframe\">\n",
       "  <thead>\n",
       "    <tr style=\"text-align: right;\">\n",
       "      <th></th>\n",
       "      <th>نام فروشگاه</th>\n",
       "      <th>سال</th>\n",
       "      <th>ماه</th>\n",
       "      <th>روز</th>\n",
       "      <th>Date</th>\n",
       "    </tr>\n",
       "  </thead>\n",
       "  <tbody>\n",
       "    <tr>\n",
       "      <th>0</th>\n",
       "      <td>store1</td>\n",
       "      <td>1396</td>\n",
       "      <td>09</td>\n",
       "      <td>04</td>\n",
       "      <td>2017-11-25</td>\n",
       "    </tr>\n",
       "    <tr>\n",
       "      <th>1</th>\n",
       "      <td>store1</td>\n",
       "      <td>1396</td>\n",
       "      <td>09</td>\n",
       "      <td>05</td>\n",
       "      <td>2017-11-26</td>\n",
       "    </tr>\n",
       "    <tr>\n",
       "      <th>2</th>\n",
       "      <td>store1</td>\n",
       "      <td>1396</td>\n",
       "      <td>09</td>\n",
       "      <td>06</td>\n",
       "      <td>2017-11-27</td>\n",
       "    </tr>\n",
       "    <tr>\n",
       "      <th>3</th>\n",
       "      <td>store1</td>\n",
       "      <td>1396</td>\n",
       "      <td>09</td>\n",
       "      <td>07</td>\n",
       "      <td>2017-11-28</td>\n",
       "    </tr>\n",
       "    <tr>\n",
       "      <th>4</th>\n",
       "      <td>store1</td>\n",
       "      <td>1396</td>\n",
       "      <td>09</td>\n",
       "      <td>08</td>\n",
       "      <td>2017-11-29</td>\n",
       "    </tr>\n",
       "  </tbody>\n",
       "</table>\n",
       "</div>"
      ],
      "text/plain": [
       "  نام فروشگاه   سال ماه روز        Date\n",
       "0      store1  1396  09  04  2017-11-25\n",
       "1      store1  1396  09  05  2017-11-26\n",
       "2      store1  1396  09  06  2017-11-27\n",
       "3      store1  1396  09  07  2017-11-28\n",
       "4      store1  1396  09  08  2017-11-29"
      ]
     },
     "execution_count": 27,
     "metadata": {},
     "output_type": "execute_result"
    }
   ],
   "source": [
    "months = {'فروردین':'01', 'اردیبهشت':'02', 'خرداد':'03', 'تیر':'04', 'مرداد':'05', 'شهریور':'06', 'مهر':'07', 'آبان':'08', 'آذر':'09', 'دی':'10', 'بهمن':'11', 'اسفند':'12'}\n",
    "df_copy = df_copy.replace({\"ماه\": months})\n",
    "df_copy = df_copy.astype({\"سال\": str, \"روز\": str})\n",
    "df_copy['روز'] = df_copy['روز'].apply(lambda y: y if len(y) == 2 else '0'+y)\n",
    "df_copy.head()"
   ]
  },
  {
   "cell_type": "code",
   "execution_count": 28,
   "metadata": {},
   "outputs": [
    {
     "data": {
      "text/html": [
       "<div>\n",
       "<style scoped>\n",
       "    .dataframe tbody tr th:only-of-type {\n",
       "        vertical-align: middle;\n",
       "    }\n",
       "\n",
       "    .dataframe tbody tr th {\n",
       "        vertical-align: top;\n",
       "    }\n",
       "\n",
       "    .dataframe thead th {\n",
       "        text-align: right;\n",
       "    }\n",
       "</style>\n",
       "<table border=\"1\" class=\"dataframe\">\n",
       "  <thead>\n",
       "    <tr style=\"text-align: right;\">\n",
       "      <th></th>\n",
       "      <th>نام فروشگاه</th>\n",
       "      <th>سال</th>\n",
       "      <th>ماه</th>\n",
       "      <th>روز</th>\n",
       "      <th>Date</th>\n",
       "      <th>Date2</th>\n",
       "    </tr>\n",
       "  </thead>\n",
       "  <tbody>\n",
       "    <tr>\n",
       "      <th>0</th>\n",
       "      <td>store1</td>\n",
       "      <td>1396</td>\n",
       "      <td>09</td>\n",
       "      <td>04</td>\n",
       "      <td>2017-11-25</td>\n",
       "      <td>1396/09/04</td>\n",
       "    </tr>\n",
       "    <tr>\n",
       "      <th>1</th>\n",
       "      <td>store1</td>\n",
       "      <td>1396</td>\n",
       "      <td>09</td>\n",
       "      <td>05</td>\n",
       "      <td>2017-11-26</td>\n",
       "      <td>1396/09/05</td>\n",
       "    </tr>\n",
       "    <tr>\n",
       "      <th>2</th>\n",
       "      <td>store1</td>\n",
       "      <td>1396</td>\n",
       "      <td>09</td>\n",
       "      <td>06</td>\n",
       "      <td>2017-11-27</td>\n",
       "      <td>1396/09/06</td>\n",
       "    </tr>\n",
       "    <tr>\n",
       "      <th>3</th>\n",
       "      <td>store1</td>\n",
       "      <td>1396</td>\n",
       "      <td>09</td>\n",
       "      <td>07</td>\n",
       "      <td>2017-11-28</td>\n",
       "      <td>1396/09/07</td>\n",
       "    </tr>\n",
       "    <tr>\n",
       "      <th>4</th>\n",
       "      <td>store1</td>\n",
       "      <td>1396</td>\n",
       "      <td>09</td>\n",
       "      <td>08</td>\n",
       "      <td>2017-11-29</td>\n",
       "      <td>1396/09/08</td>\n",
       "    </tr>\n",
       "  </tbody>\n",
       "</table>\n",
       "</div>"
      ],
      "text/plain": [
       "  نام فروشگاه   سال ماه روز        Date       Date2\n",
       "0      store1  1396  09  04  2017-11-25  1396/09/04\n",
       "1      store1  1396  09  05  2017-11-26  1396/09/05\n",
       "2      store1  1396  09  06  2017-11-27  1396/09/06\n",
       "3      store1  1396  09  07  2017-11-28  1396/09/07\n",
       "4      store1  1396  09  08  2017-11-29  1396/09/08"
      ]
     },
     "execution_count": 28,
     "metadata": {},
     "output_type": "execute_result"
    }
   ],
   "source": [
    "df_copy['Date2'] = df_copy[['سال', 'ماه', 'روز']].apply(lambda y: '/'.join(y), axis = 1) \n",
    "df_copy.head()"
   ]
  },
  {
   "cell_type": "code",
   "execution_count": 29,
   "metadata": {},
   "outputs": [
    {
     "data": {
      "text/html": [
       "<div>\n",
       "<style scoped>\n",
       "    .dataframe tbody tr th:only-of-type {\n",
       "        vertical-align: middle;\n",
       "    }\n",
       "\n",
       "    .dataframe tbody tr th {\n",
       "        vertical-align: top;\n",
       "    }\n",
       "\n",
       "    .dataframe thead th {\n",
       "        text-align: right;\n",
       "    }\n",
       "</style>\n",
       "<table border=\"1\" class=\"dataframe\">\n",
       "  <thead>\n",
       "    <tr style=\"text-align: right;\">\n",
       "      <th></th>\n",
       "      <th>نام فروشگاه</th>\n",
       "      <th>سال</th>\n",
       "      <th>ماه</th>\n",
       "      <th>روز</th>\n",
       "      <th>Date</th>\n",
       "      <th>Date2</th>\n",
       "      <th>Jalali Date</th>\n",
       "    </tr>\n",
       "  </thead>\n",
       "  <tbody>\n",
       "    <tr>\n",
       "      <th>0</th>\n",
       "      <td>store1</td>\n",
       "      <td>1396</td>\n",
       "      <td>09</td>\n",
       "      <td>04</td>\n",
       "      <td>2017-11-25</td>\n",
       "      <td>1396/09/04</td>\n",
       "      <td>1396-09-04</td>\n",
       "    </tr>\n",
       "    <tr>\n",
       "      <th>1</th>\n",
       "      <td>store1</td>\n",
       "      <td>1396</td>\n",
       "      <td>09</td>\n",
       "      <td>05</td>\n",
       "      <td>2017-11-26</td>\n",
       "      <td>1396/09/05</td>\n",
       "      <td>1396-09-05</td>\n",
       "    </tr>\n",
       "    <tr>\n",
       "      <th>2</th>\n",
       "      <td>store1</td>\n",
       "      <td>1396</td>\n",
       "      <td>09</td>\n",
       "      <td>06</td>\n",
       "      <td>2017-11-27</td>\n",
       "      <td>1396/09/06</td>\n",
       "      <td>1396-09-06</td>\n",
       "    </tr>\n",
       "    <tr>\n",
       "      <th>3</th>\n",
       "      <td>store1</td>\n",
       "      <td>1396</td>\n",
       "      <td>09</td>\n",
       "      <td>07</td>\n",
       "      <td>2017-11-28</td>\n",
       "      <td>1396/09/07</td>\n",
       "      <td>1396-09-07</td>\n",
       "    </tr>\n",
       "    <tr>\n",
       "      <th>4</th>\n",
       "      <td>store1</td>\n",
       "      <td>1396</td>\n",
       "      <td>09</td>\n",
       "      <td>08</td>\n",
       "      <td>2017-11-29</td>\n",
       "      <td>1396/09/08</td>\n",
       "      <td>1396-09-08</td>\n",
       "    </tr>\n",
       "    <tr>\n",
       "      <th>...</th>\n",
       "      <td>...</td>\n",
       "      <td>...</td>\n",
       "      <td>...</td>\n",
       "      <td>...</td>\n",
       "      <td>...</td>\n",
       "      <td>...</td>\n",
       "      <td>...</td>\n",
       "    </tr>\n",
       "    <tr>\n",
       "      <th>13742</th>\n",
       "      <td>store29</td>\n",
       "      <td>1399</td>\n",
       "      <td>07</td>\n",
       "      <td>19</td>\n",
       "      <td>2020-10-10</td>\n",
       "      <td>1399/07/19</td>\n",
       "      <td>1399-07-19</td>\n",
       "    </tr>\n",
       "    <tr>\n",
       "      <th>13743</th>\n",
       "      <td>store29</td>\n",
       "      <td>1399</td>\n",
       "      <td>07</td>\n",
       "      <td>20</td>\n",
       "      <td>2020-10-11</td>\n",
       "      <td>1399/07/20</td>\n",
       "      <td>1399-07-20</td>\n",
       "    </tr>\n",
       "    <tr>\n",
       "      <th>13744</th>\n",
       "      <td>store29</td>\n",
       "      <td>1399</td>\n",
       "      <td>07</td>\n",
       "      <td>21</td>\n",
       "      <td>2020-10-12</td>\n",
       "      <td>1399/07/21</td>\n",
       "      <td>1399-07-21</td>\n",
       "    </tr>\n",
       "    <tr>\n",
       "      <th>13745</th>\n",
       "      <td>store29</td>\n",
       "      <td>1399</td>\n",
       "      <td>07</td>\n",
       "      <td>22</td>\n",
       "      <td>2020-10-13</td>\n",
       "      <td>1399/07/22</td>\n",
       "      <td>1399-07-22</td>\n",
       "    </tr>\n",
       "    <tr>\n",
       "      <th>13746</th>\n",
       "      <td>store29</td>\n",
       "      <td>1399</td>\n",
       "      <td>07</td>\n",
       "      <td>23</td>\n",
       "      <td>2020-10-14</td>\n",
       "      <td>1399/07/23</td>\n",
       "      <td>1399-07-23</td>\n",
       "    </tr>\n",
       "  </tbody>\n",
       "</table>\n",
       "<p>13747 rows × 7 columns</p>\n",
       "</div>"
      ],
      "text/plain": [
       "      نام فروشگاه   سال ماه روز        Date       Date2 Jalali Date\n",
       "0          store1  1396  09  04  2017-11-25  1396/09/04  1396-09-04\n",
       "1          store1  1396  09  05  2017-11-26  1396/09/05  1396-09-05\n",
       "2          store1  1396  09  06  2017-11-27  1396/09/06  1396-09-06\n",
       "3          store1  1396  09  07  2017-11-28  1396/09/07  1396-09-07\n",
       "4          store1  1396  09  08  2017-11-29  1396/09/08  1396-09-08\n",
       "...           ...   ...  ..  ..         ...         ...         ...\n",
       "13742     store29  1399  07  19  2020-10-10  1399/07/19  1399-07-19\n",
       "13743     store29  1399  07  20  2020-10-11  1399/07/20  1399-07-20\n",
       "13744     store29  1399  07  21  2020-10-12  1399/07/21  1399-07-21\n",
       "13745     store29  1399  07  22  2020-10-13  1399/07/22  1399-07-22\n",
       "13746     store29  1399  07  23  2020-10-14  1399/07/23  1399-07-23\n",
       "\n",
       "[13747 rows x 7 columns]"
      ]
     },
     "execution_count": 29,
     "metadata": {},
     "output_type": "execute_result"
    }
   ],
   "source": [
    "#change the International date to jalali date:\n",
    "from khayyam import *\n",
    "from datetime import date, datetime\n",
    "\n",
    "df_copy['Jalali Date'] = df_copy.apply(lambda y: str(JalaliDate(date(int(str(y['Date']).split(' ')[0].split('-')[0]), int(str(y['Date']).split(' ')[0].split('-')[1]), int(str(y['Date']).split(' ')[0].split('-')[2])))), axis = 1)\n",
    "df_copy"
   ]
  },
  {
   "cell_type": "markdown",
   "metadata": {},
   "source": [
    "# ایجاد تاریخ های یک بازه "
   ]
  },
  {
   "cell_type": "code",
   "execution_count": 31,
   "metadata": {},
   "outputs": [],
   "source": [
    "def daterange(date1, date2):\n",
    "    for n in range(int ((date2 - date1).days)+1):\n",
    "        yield date1 + timedelta(n)"
   ]
  },
  {
   "cell_type": "code",
   "execution_count": 32,
   "metadata": {},
   "outputs": [],
   "source": [
    "df_time = pd.DataFrame()\n",
    "times = []\n",
    "start_dt = date(2019,11,20)\n",
    "#end date means the fainal day you have real value you should check it always\n",
    "end_dt = date(2020,11,20)#30 mehr\n",
    "# make all day from beginig to now\n",
    "for dt in daterange(start_dt, end_dt):\n",
    "    times.append(dt)\n",
    "df_time['ds'] = times\n"
   ]
  },
  {
   "cell_type": "code",
   "execution_count": 33,
   "metadata": {},
   "outputs": [
    {
     "data": {
      "text/html": [
       "<div>\n",
       "<style scoped>\n",
       "    .dataframe tbody tr th:only-of-type {\n",
       "        vertical-align: middle;\n",
       "    }\n",
       "\n",
       "    .dataframe tbody tr th {\n",
       "        vertical-align: top;\n",
       "    }\n",
       "\n",
       "    .dataframe thead th {\n",
       "        text-align: right;\n",
       "    }\n",
       "</style>\n",
       "<table border=\"1\" class=\"dataframe\">\n",
       "  <thead>\n",
       "    <tr style=\"text-align: right;\">\n",
       "      <th></th>\n",
       "      <th>ds</th>\n",
       "    </tr>\n",
       "  </thead>\n",
       "  <tbody>\n",
       "    <tr>\n",
       "      <th>0</th>\n",
       "      <td>2019-11-20</td>\n",
       "    </tr>\n",
       "    <tr>\n",
       "      <th>1</th>\n",
       "      <td>2019-11-21</td>\n",
       "    </tr>\n",
       "    <tr>\n",
       "      <th>2</th>\n",
       "      <td>2019-11-22</td>\n",
       "    </tr>\n",
       "    <tr>\n",
       "      <th>3</th>\n",
       "      <td>2019-11-23</td>\n",
       "    </tr>\n",
       "    <tr>\n",
       "      <th>4</th>\n",
       "      <td>2019-11-24</td>\n",
       "    </tr>\n",
       "    <tr>\n",
       "      <th>...</th>\n",
       "      <td>...</td>\n",
       "    </tr>\n",
       "    <tr>\n",
       "      <th>362</th>\n",
       "      <td>2020-11-16</td>\n",
       "    </tr>\n",
       "    <tr>\n",
       "      <th>363</th>\n",
       "      <td>2020-11-17</td>\n",
       "    </tr>\n",
       "    <tr>\n",
       "      <th>364</th>\n",
       "      <td>2020-11-18</td>\n",
       "    </tr>\n",
       "    <tr>\n",
       "      <th>365</th>\n",
       "      <td>2020-11-19</td>\n",
       "    </tr>\n",
       "    <tr>\n",
       "      <th>366</th>\n",
       "      <td>2020-11-20</td>\n",
       "    </tr>\n",
       "  </tbody>\n",
       "</table>\n",
       "<p>367 rows × 1 columns</p>\n",
       "</div>"
      ],
      "text/plain": [
       "             ds\n",
       "0    2019-11-20\n",
       "1    2019-11-21\n",
       "2    2019-11-22\n",
       "3    2019-11-23\n",
       "4    2019-11-24\n",
       "..          ...\n",
       "362  2020-11-16\n",
       "363  2020-11-17\n",
       "364  2020-11-18\n",
       "365  2020-11-19\n",
       "366  2020-11-20\n",
       "\n",
       "[367 rows x 1 columns]"
      ]
     },
     "execution_count": 33,
     "metadata": {},
     "output_type": "execute_result"
    }
   ],
   "source": [
    "df_time"
   ]
  }
 ],
 "metadata": {
  "kernelspec": {
   "display_name": "base",
   "language": "python",
   "name": "python3"
  },
  "language_info": {
   "codemirror_mode": {
    "name": "ipython",
    "version": 3
   },
   "file_extension": ".py",
   "mimetype": "text/x-python",
   "name": "python",
   "nbconvert_exporter": "python",
   "pygments_lexer": "ipython3",
   "version": "3.8.8"
  },
  "vscode": {
   "interpreter": {
    "hash": "e9e8e871a1af7f133864a9829abc9bfee0728875d5c0b4e56c73cc930a7229e7"
   }
  }
 },
 "nbformat": 4,
 "nbformat_minor": 4
}
